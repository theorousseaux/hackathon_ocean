{
 "cells": [
  {
   "cell_type": "code",
   "execution_count": 1,
   "metadata": {
    "_cell_guid": "b1076dfc-b9ad-4769-8c92-a6c4dae69d19",
    "_uuid": "8f2839f25d086af736a60e9eeb907d3b93b6e0e5",
    "execution": {
     "iopub.execute_input": "2023-02-27T08:37:55.875293Z",
     "iopub.status.busy": "2023-02-27T08:37:55.874094Z",
     "iopub.status.idle": "2023-02-27T08:37:55.911943Z",
     "shell.execute_reply": "2023-02-27T08:37:55.910662Z",
     "shell.execute_reply.started": "2023-02-27T08:37:55.875231Z"
    }
   },
   "outputs": [
    {
     "name": "stdout",
     "output_type": "stream",
     "text": [
      "/kaggle/input/ocean-eddy-detection/eddies_train.nc\n",
      "/kaggle/input/ocean-eddy-detection/OSSE_U_V_SLA_SST_test.nc\n",
      "/kaggle/input/ocean-eddy-detection/OSSE_U_V_SLA_SST_train.nc\n"
     ]
    }
   ],
   "source": [
    "# This Python 3 environment comes with many helpful analytics libraries installed\n",
    "# It is defined by the kaggle/python Docker image: https://github.com/kaggle/docker-python\n",
    "# For example, here's several helpful packages to load\n",
    "\n",
    "import numpy as np # linear algebra\n",
    "import pandas as pd # data processing, CSV file I/O (e.g. pd.read_csv)\n",
    "\n",
    "# Input data files are available in the read-only \"../input/\" directory\n",
    "# For example, running this (by clicking run or pressing Shift+Enter) will list all files under the input directory\n",
    "\n",
    "import os\n",
    "for dirname, _, filenames in os.walk('/kaggle/input'):\n",
    "    for filename in filenames:\n",
    "        print(os.path.join(dirname, filename))\n",
    "\n",
    "# You can write up to 20GB to the current directory (/kaggle/working/) that gets preserved as output when you create a version using \"Save & Run All\" \n",
    "# You can also write temporary files to /kaggle/temp/, but they won't be saved outside of the current session"
   ]
  },
  {
   "cell_type": "code",
   "execution_count": 1,
   "metadata": {
    "tags": []
   },
   "outputs": [
    {
     "ename": "ModuleNotFoundError",
     "evalue": "No module named 'xarray'",
     "output_type": "error",
     "traceback": [
      "\u001b[0;31m---------------------------------------------------------------------------\u001b[0m",
      "\u001b[0;31mModuleNotFoundError\u001b[0m                       Traceback (most recent call last)",
      "\u001b[0;32m/var/folders/cw/0462_tfj1_3byvx3q4snmrwc0000gn/T/ipykernel_11086/4017220414.py\u001b[0m in \u001b[0;36m<module>\u001b[0;34m\u001b[0m\n\u001b[0;32m----> 1\u001b[0;31m \u001b[0;32mimport\u001b[0m \u001b[0mxarray\u001b[0m \u001b[0;32mas\u001b[0m \u001b[0mxr\u001b[0m\u001b[0;34m\u001b[0m\u001b[0;34m\u001b[0m\u001b[0m\n\u001b[0m\u001b[1;32m      2\u001b[0m \u001b[0;32mimport\u001b[0m \u001b[0mtorch\u001b[0m\u001b[0;34m\u001b[0m\u001b[0;34m\u001b[0m\u001b[0m\n\u001b[1;32m      3\u001b[0m \u001b[0;32mimport\u001b[0m \u001b[0mnumpy\u001b[0m \u001b[0;32mas\u001b[0m \u001b[0mnp\u001b[0m\u001b[0;34m\u001b[0m\u001b[0;34m\u001b[0m\u001b[0m\n",
      "\u001b[0;31mModuleNotFoundError\u001b[0m: No module named 'xarray'"
     ]
    }
   ],
   "source": [
    "import xarray as xr\n",
    "import torch\n",
    "import numpy as np"
   ]
  },
  {
   "cell_type": "code",
   "execution_count": 11,
   "metadata": {
    "execution": {
     "iopub.execute_input": "2023-02-27T08:46:18.114498Z",
     "iopub.status.busy": "2023-02-27T08:46:18.113971Z",
     "iopub.status.idle": "2023-02-27T08:46:18.168090Z",
     "shell.execute_reply": "2023-02-27T08:46:18.167032Z",
     "shell.execute_reply.started": "2023-02-27T08:46:18.114453Z"
    }
   },
   "outputs": [],
   "source": [
    "eddies_train = xr.open_dataset('/kaggle/input/ocean-eddy-detection/eddies_train.nc')\n",
    "X_train = xr.open_dataset('/kaggle/input/ocean-eddy-detection/OSSE_U_V_SLA_SST_train.nc')"
   ]
  },
  {
   "cell_type": "code",
   "execution_count": 29,
   "metadata": {
    "execution": {
     "iopub.execute_input": "2023-02-27T08:53:20.081670Z",
     "iopub.status.busy": "2023-02-27T08:53:20.080993Z",
     "iopub.status.idle": "2023-02-27T08:53:20.088788Z",
     "shell.execute_reply": "2023-02-27T08:53:20.087406Z",
     "shell.execute_reply.started": "2023-02-27T08:53:20.081630Z"
    }
   },
   "outputs": [],
   "source": [
    "y = eddies_train.eddies.values\n",
    "X_verti = X_train.vomecrtyT.values\n",
    "X_hori = X_train.vozocrtxT.values\n",
    "X_SSH = X_train.sossheig.values\n",
    "X_SST = X_train.votemper.values"
   ]
  },
  {
   "cell_type": "code",
   "execution_count": null,
   "metadata": {},
   "outputs": [],
   "source": [
    "plt.imshow(y[0])"
   ]
  },
  {
   "cell_type": "code",
   "execution_count": null,
   "metadata": {},
   "outputs": [],
   "source": [
    "X = np.array([X_verti, X_hori, X_SSH, X_SST])\n",
    "X = X.transpose((1,0,2,3))\n",
    "X = np.nan_to_num(X, nan=-1000)\n",
    "X = torch.tensor(X)\n",
    "X.shape"
   ]
  },
  {
   "cell_type": "code",
   "execution_count": null,
   "metadata": {},
   "outputs": [],
   "source": [
    "y = np.nan_to_num(y, nan=-1)\n",
    "y = torch.tensor(y)\n",
    "y.shape"
   ]
  }
 ],
 "metadata": {
  "kernelspec": {
   "display_name": "Python 3 (ipykernel)",
   "language": "python",
   "name": "python3"
  },
  "language_info": {
   "codemirror_mode": {
    "name": "ipython",
    "version": 3
   },
   "file_extension": ".py",
   "mimetype": "text/x-python",
   "name": "python",
   "nbconvert_exporter": "python",
   "pygments_lexer": "ipython3",
   "version": "3.9.7"
  }
 },
 "nbformat": 4,
 "nbformat_minor": 4
}
