{
  "cells": [
    {
      "cell_type": "code",
      "execution_count": 1,
      "metadata": {
        "id": "NByplwOPf8qJ"
      },
      "outputs": [],
      "source": [
        "# This Python 3 environment comes with many helpful analytics libraries installed\n",
        "# It is defined by the kaggle/python Docker image: https://github.com/kaggle/docker-python\n",
        "# For example, here's several helpful packages to load\n",
        "\n",
        "import numpy as np # linear algebra\n",
        "import pandas as pd # data processing, CSV file I/O (e.g. pd.read_csv)\n",
        "import matplotlib.pyplot as plt\n",
        "\n",
        "# Input data files are available in the read-only \"../input/\" directory\n",
        "# For example, running this (by clicking run or pressing Shift+Enter) will list all files under the input directory\n",
        "\n",
        "import os\n",
        "for dirname, _, filenames in os.walk('/kaggle/input'):\n",
        "    for filename in filenames:\n",
        "        print(os.path.join(dirname, filename))\n",
        "\n",
        "# You can write up to 20GB to the current directory (/kaggle/working/) that gets preserved as output when you create a version using \"Save & Run All\" \n",
        "# You can also write temporary files to /kaggle/temp/, but they won't be saved outside of the current session"
      ]
    },
    {
      "cell_type": "code",
      "execution_count": 2,
      "metadata": {
        "id": "x9daGLI1f8qO"
      },
      "outputs": [],
      "source": [
        "import xarray as xr\n",
        "import torch\n",
        "import torch.nn as nn\n",
        "from torch.utils.data import Dataset\n",
        "from torch.utils.data import DataLoader\n",
        "from tqdm import tqdm"
      ]
    },
    {
      "cell_type": "markdown",
      "metadata": {
        "id": "ajnwhnu4f8qP"
      },
      "source": [
        "## For google colab"
      ]
    },
    {
      "cell_type": "code",
      "execution_count": 3,
      "metadata": {
        "id": "Yu6oEd6Glqou"
      },
      "outputs": [],
      "source": [
        "# !pip install -q kaggle\n",
        "# from google.colab import files\n",
        "\n",
        "# files.upload()"
      ]
    },
    {
      "cell_type": "code",
      "execution_count": 4,
      "metadata": {
        "id": "OidoI15ilqou"
      },
      "outputs": [],
      "source": [
        "# !mkdir ~/.kaggle\n",
        "# ! cp kaggle.json ~/.kaggle/\n",
        "# ! chmod 600 ~/.kaggle/kaggle.json\n",
        "# !kaggle datasets list\n",
        "# ! kaggle competitions download -c ocean-eddy-detection\n",
        "# ! mkdir train\n",
        "# ! unzip ocean-eddy-detection.zip -d train"
      ]
    },
    {
      "cell_type": "code",
      "execution_count": 5,
      "metadata": {
        "id": "SFKvvrzOf8qR",
        "colab": {
          "base_uri": "https://localhost:8080/"
        },
        "outputId": "eebadadf-a5d4-4fe4-d719-e67b88cab2a7"
      },
      "outputs": [
        {
          "output_type": "stream",
          "name": "stdout",
          "text": [
            "Drive already mounted at /content/drive; to attempt to forcibly remount, call drive.mount(\"/content/drive\", force_remount=True).\n"
          ]
        }
      ],
      "source": [
        "# Load the Drive helper and mount\n",
        "from google.colab import drive\n",
        "drive.mount('/content/drive')\n",
        "path = 'drive/MyDrive/SUP/4A/ocean-eddy-detection'"
      ]
    },
    {
      "cell_type": "markdown",
      "metadata": {
        "id": "COhGiis5lqov"
      },
      "source": [
        "# Pre-processing"
      ]
    },
    {
      "cell_type": "code",
      "execution_count": 6,
      "metadata": {
        "id": "SVziv-ZYlqow"
      },
      "outputs": [],
      "source": [
        "from torchvision import datasets, transforms\n",
        "\n",
        "image_transforms = transforms.Compose(\n",
        "    [\n",
        "        transforms.RandomHorizontalFlip(1.0),\n",
        "        transforms.RandomVerticalFlip(1.0),\n",
        "        #transforms.GaussianBlur(7, sigma=(0.1, 3.0)),\n",
        "    ]\n",
        ")"
      ]
    },
    {
      "cell_type": "code",
      "execution_count": 7,
      "metadata": {
        "id": "jbkfHRRWf8qR"
      },
      "outputs": [],
      "source": [
        "class TrainDataset():\n",
        "    def __init__(self, path):\n",
        "\n",
        "        eddies_train = xr.open_dataset(path + '/eddies_train.nc')\n",
        "        X_train = xr.open_dataset(path + '/OSSE_U_V_SLA_SST_train.nc')\n",
        "        \n",
        "        y = eddies_train.eddies.values\n",
        "        \n",
        "        X_verti = X_train.vomecrtyT.values\n",
        "        X_hori = X_train.vozocrtxT.values\n",
        "        X_SSH = X_train.sossheig.values\n",
        "        X_SST = X_train.votemper.values\n",
        "        \n",
        "        ##Transformation\n",
        "        X = np.array([X_verti, X_hori, X_SSH, X_SST])\n",
        "        X = X.transpose((1,0,2,3))\n",
        "        \n",
        "        y = np.nan_to_num(y, nan=3)\n",
        "            \n",
        "        #Enregistre les index correspondant aux bords\n",
        "        edges_index = []\n",
        "        for i in range(1,X.shape[2]-1):\n",
        "            for j in range (1,X.shape[3]-1):\n",
        "                if np.isnan(X[32, 3, i, j]):\n",
        "                    if np.any(np.isnan(X[32, 3, i-1:i+2, j-1:j+2])!=True):\n",
        "                        edges_index.append((i, j))  \n",
        "        \n",
        "        \n",
        "        for img_index in tqdm(range(X.shape[0])):\n",
        "            for index in edges_index:\n",
        "                i, j = index\n",
        "                X[img_index, :, i, j] = np.mean(X[img_index, :, i-1:i+2, j-1:j+2], axis=(1,2))\n",
        "\n",
        "        \n",
        "        X = np.nan_to_num(X, nan=0)\n",
        "    \n",
        "        ##Normalisation\n",
        "        \n",
        "        X = (X - np.min(X, axis=(0,2,3), keepdims=True))/( np.max(X, axis=(0,2,3), keepdims=True) - np.min(X, axis=(0,2,3), keepdims=True) )\n",
        "        \n",
        "        ##Augmentation \n",
        "        \n",
        "        X = torch.tensor(X)\n",
        "        y = torch.tensor(y, dtype=torch.long).reshape(y.shape[0],1, y.shape[1],y.shape[2])\n",
        "        data = torch.cat((X,y),dim=1)\n",
        "        \n",
        "        #data_aug = image_transforms(data)\n",
        "        data_aug = data\n",
        "        \n",
        "        X_aug  = data_aug[:,:-1,:,:]\n",
        "        y_aug = data_aug[:,-1,:,:]\n",
        "        \n",
        "        #self.X_train = torch.cat((X, X_aug), dim=0)\n",
        "        #self.y_train = torch.cat((y.reshape(y.shape[0], y.shape[2], y.shape[3]), y_aug), dim=0)\n",
        "        self.X_train = X\n",
        "        self.y_train = y.reshape(y.shape[0], y.shape[2], y.shape[3])\n",
        "\n",
        "        self.image_transforms = image_transforms   \n",
        "        \n",
        "        \n",
        "    def __len__(self):\n",
        "        return len(self.X_train)\n",
        "\n",
        "    def __getitem__(self, idx):\n",
        "        return self.X_train[idx], self.y_train[idx]\n"
      ]
    },
    {
      "cell_type": "code",
      "execution_count": 8,
      "metadata": {
        "id": "ENL68vyNlqoy"
      },
      "outputs": [],
      "source": [
        "class TestDataSet():\n",
        "\n",
        "    def __init__(self, path):\n",
        "        self.X_test = xr.open_dataset(path + '/OSSE_U_V_SLA_SST_test.nc')\n",
        "    \n",
        "    def __len__(self):\n",
        "        return len(self.X_test)\n",
        "    \n",
        "    def __getitem__(self, idx):\n",
        "        return self.X_test[idx]\n"
      ]
    },
    {
      "cell_type": "markdown",
      "metadata": {
        "id": "4WslTBN8lqoy"
      },
      "source": [
        "We split the set between one train set and one validation set."
      ]
    },
    {
      "cell_type": "code",
      "execution_count": 9,
      "metadata": {
        "colab": {
          "base_uri": "https://localhost:8080/"
        },
        "id": "2N0m__KWlqoz",
        "outputId": "bd65eda4-5e8d-4af8-a2f6-20b7b8c6c2fa"
      },
      "outputs": [
        {
          "output_type": "stream",
          "name": "stderr",
          "text": [
            "100%|██████████| 284/284 [00:23<00:00, 12.22it/s]\n"
          ]
        },
        {
          "output_type": "stream",
          "name": "stdout",
          "text": [
            "The length of train data is: 228\n",
            "The length of validation data is: 56\n"
          ]
        }
      ],
      "source": [
        "from torch.utils.data import random_split\n",
        "\n",
        "#path = 'ocean-eddy-detection/' # local\n",
        "#path = 'train/' # if running on colab\n",
        "dataset = TrainDataset(path)\n",
        "\n",
        "trainDataSet, valDataSet = random_split(dataset, [0.8, 0.2])\n",
        "trainDataLoader = DataLoader(trainDataSet, batch_size=4, shuffle=True)\n",
        "valDataLoader = DataLoader(valDataSet, batch_size=2, shuffle=True)\n",
        "\n",
        "print(\"The length of train data is:\",len(trainDataSet))\n",
        "print(\"The length of validation data is:\",len(valDataSet))"
      ]
    },
    {
      "cell_type": "code",
      "execution_count": 10,
      "metadata": {
        "id": "zZq-i0E8lqoz"
      },
      "outputs": [],
      "source": [
        "iterator_data = iter(trainDataLoader)"
      ]
    },
    {
      "cell_type": "code",
      "execution_count": 11,
      "metadata": {
        "id": "BvVBjT1slqoz",
        "colab": {
          "base_uri": "https://localhost:8080/",
          "height": 511
        },
        "outputId": "699a7067-0caa-4717-8104-96c90595f6a2"
      },
      "outputs": [
        {
          "output_type": "stream",
          "name": "stdout",
          "text": [
            "torch.Size([4, 4, 357, 717])\n"
          ]
        },
        {
          "output_type": "display_data",
          "data": {
            "text/plain": [
              "<Figure size 432x288 with 2 Axes>"
            ],
            "image/png": "[encoded data removed]"
          },
          "metadata": {
            "needs_background": "light"
          }
        },
        {
          "output_type": "display_data",
          "data": {
            "text/plain": [
              "<Figure size 432x288 with 2 Axes>"
            ],
            "image/png": "[encoded data removed]"
          },
          "metadata": {
            "needs_background": "light"
          }
        }
      ],
      "source": [
        "img, label = next(iterator_data)\n",
        "print(img.shape)\n",
        "plt.imshow(img[0][0], origin='lower')\n",
        "plt.colorbar()\n",
        "plt.title('Vertical velocity')\n",
        "plt.show()\n",
        "plt.imshow(label[0], origin='lower')\n",
        "plt.colorbar()\n",
        "plt.title('Label')\n",
        "plt.show()"
      ]
    },
    {
      "cell_type": "markdown",
      "metadata": {
        "id": "0tbwYaCxlqo0"
      },
      "source": [
        "# Model"
      ]
    },
    {
      "cell_type": "code",
      "execution_count": 12,
      "metadata": {
        "id": "no9o8l4hf8qU"
      },
      "outputs": [],
      "source": [
        "class Unet(nn.Module):\n",
        "    \"\"\"\n",
        "    Our modified Unet :\n",
        "    Use of padding to keep size of input in output easily.\n",
        "    Use of batchnorm2d after Conv2d\n",
        "    \"\"\"\n",
        "    def __init__(self):\n",
        "        super().__init__()\n",
        "\n",
        "        self.downblock1 = nn.Sequential(\n",
        "            # nn.Dropout2d(0.2),\n",
        "            nn.Conv2d(4, 64, kernel_size=3, padding='same', padding_mode='replicate'),\n",
        "            nn.BatchNorm2d(64),\n",
        "            nn.ReLU(inplace=True),\n",
        "            nn.Conv2d(64, 64, kernel_size=3, padding='same', padding_mode='replicate'),\n",
        "            nn.BatchNorm2d(64),\n",
        "            nn.ReLU(inplace=True)\n",
        "        )\n",
        "        self.downblock2 = nn.Sequential(\n",
        "            nn.MaxPool2d(kernel_size=2),\n",
        "            # nn.Dropout2d(0.2),\n",
        "            nn.Conv2d(64, 128, kernel_size=3, padding='same', padding_mode='replicate'),\n",
        "            nn.BatchNorm2d(128),\n",
        "            nn.ReLU(inplace=True),\n",
        "            nn.Conv2d(128, 128, kernel_size=3, padding='same', padding_mode='replicate'),\n",
        "            nn.BatchNorm2d(128),\n",
        "            nn.ReLU(inplace=True)\n",
        "        )\n",
        "        self.downblock3 = nn.Sequential(\n",
        "            nn.MaxPool2d(kernel_size=2),\n",
        "            # nn.Dropout2d(0.2),          \n",
        "            nn.Conv2d(128, 256, kernel_size=3, padding='same', padding_mode='replicate'),\n",
        "            nn.BatchNorm2d(256),\n",
        "            nn.ReLU(inplace=True),\n",
        "            nn.Conv2d(256, 256, kernel_size=3, padding='same', padding_mode='replicate'),\n",
        "            nn.BatchNorm2d(256),\n",
        "            nn.ReLU(inplace=True)\n",
        "        )\n",
        "\n",
        "        self.middleU = nn.Sequential(\n",
        "            nn.MaxPool2d(kernel_size=2),\n",
        "            # nn.Dropout2d(0.2),\n",
        "            nn.Conv2d(256, 512, kernel_size=3, padding='same', padding_mode='replicate'),\n",
        "            nn.BatchNorm2d(512),\n",
        "            nn.ReLU(inplace=True),\n",
        "            nn.Conv2d(512, 512, kernel_size=3, padding='same', padding_mode='replicate'),\n",
        "            nn.BatchNorm2d(512),\n",
        "            nn.ReLU(inplace=True),\n",
        "            # nn.Dropout2d(0.2),\n",
        "            nn.ConvTranspose2d(512, 256, kernel_size=3, stride=2)\n",
        "        )\n",
        "\n",
        "        self.upblock1 = nn.Sequential(\n",
        "            nn.Conv2d(512, 256, kernel_size=3, padding='same', padding_mode='replicate'),\n",
        "            nn.BatchNorm2d(256),\n",
        "            nn.ReLU(inplace=True),\n",
        "            nn.Conv2d(256, 256, kernel_size=3, padding='same', padding_mode='replicate'),\n",
        "            nn.BatchNorm2d(256),\n",
        "            nn.ReLU(inplace=True),\n",
        "            # nn.Dropout2d(0.2),\n",
        "            nn.ConvTranspose2d(256, 128, kernel_size=2, stride=2)\n",
        "        )\n",
        "\n",
        "        self.upblock2 = nn.Sequential(\n",
        "            nn.Conv2d(256, 128, kernel_size=3, padding='same', padding_mode='replicate'),\n",
        "            nn.BatchNorm2d(128),\n",
        "            nn.ReLU(inplace=True),\n",
        "            nn.Conv2d(128, 128, kernel_size=3, padding='same', padding_mode='replicate'),\n",
        "            nn.BatchNorm2d(128),\n",
        "            nn.ReLU(inplace=True),\n",
        "            # nn.Dropout2d(0.2),\n",
        "            nn.ConvTranspose2d(128, 64, kernel_size=3, stride=2)\n",
        "        )\n",
        "\n",
        "        self.upblock3 = nn.Sequential(\n",
        "            nn.Conv2d(128, 64, kernel_size=3, padding='same', padding_mode='replicate'),\n",
        "            nn.BatchNorm2d(64),\n",
        "            nn.ReLU(inplace=True),\n",
        "            nn.Conv2d(64, 64, kernel_size=3, padding='same', padding_mode='replicate'),\n",
        "            nn.BatchNorm2d(64),\n",
        "            nn.ReLU(inplace=True),\n",
        "            nn.Conv2d(64, 3, kernel_size=1)\n",
        "        )\n",
        "    \n",
        "\n",
        "    def forward(self, x):\n",
        "        \n",
        "        x1 = self.downblock1(x)\n",
        "\n",
        "        x2 = self.downblock2(x1)\n",
        "\n",
        "        x3 = self.downblock3(x2)\n",
        "\n",
        "        xmiddle = self.middleU(x3)\n",
        "\n",
        "        xup0_1 = torch.cat((x3,xmiddle), dim=1)\n",
        "        xup1 = self.upblock1(xup0_1)\n",
        "\n",
        "        xup1_2 = torch.cat((x2,xup1), dim=1)\n",
        "        xup2 = self.upblock2(xup1_2)\n",
        "\n",
        "        xup2_3 = torch.cat((x1,xup2), dim=1)\n",
        "        xup3 = self.upblock3(xup2_3)\n",
        "\n",
        "        return xup3\n"
      ]
    },
    {
      "cell_type": "code",
      "execution_count": 13,
      "metadata": {
        "id": "3I4yDnsglqo0"
      },
      "outputs": [],
      "source": [
        "device = torch.device(\"cuda:0\" if torch.cuda.is_available() else \"cpu\")\n",
        "class Adapted_loss(nn.Module):\n",
        "    def __init__(self):\n",
        "        super().__init__()\n",
        "\n",
        "        self.loss = nn.CrossEntropyLoss(weight=torch.Tensor([3/13, 5/13, 5/13]))\n",
        "      \n",
        "    def forward(self, prediction, target):\n",
        "        mask = target[0]!=3\n",
        "        y = target[:,mask]\n",
        "        ypred = prediction[:,:,mask]\n",
        "        return self.loss(ypred, y)\n",
        "\n",
        "#EXEMPLE\n",
        "#loss = Adapted_loss()\n",
        "#loss(ypred, y)"
      ]
    },
    {
      "cell_type": "markdown",
      "metadata": {
        "id": "wDXqrzMflqo1"
      },
      "source": [
        "# Training"
      ]
    },
    {
      "cell_type": "code",
      "execution_count": 14,
      "metadata": {
        "id": "-UKMFiIKf8qW"
      },
      "outputs": [],
      "source": [
        "def train_loop(dataloader, model, loss_fn, optimizer, device):\n",
        "    size = len(dataloader.dataset)\n",
        "    model.train()\n",
        "    for batch, (X, y) in enumerate(dataloader):\n",
        "        # Move input and target tensors to the device\n",
        "        X, y = X.to(device), y.to(device)\n",
        "\n",
        "        # Compute prediction and loss\n",
        "        pred = model(X)\n",
        "        #pred = pred.to(dtype=torch.float64)\n",
        "    \n",
        "        loss = loss_fn(pred, y.long())\n",
        "\n",
        "        # Backpropagation\n",
        "        optimizer.zero_grad()\n",
        "        loss.backward()\n",
        "        optimizer.step()\n",
        "\n",
        "        # Print loss and accuracy\n",
        "        if batch % 10 == 0:\n",
        "            loss, current = loss.item(), batch * len(X)\n",
        "            print(f\"loss: {loss:>7f}  [{current:>5d}/{size:>5d}]\")\n"
      ]
    },
    {
      "cell_type": "code",
      "execution_count": 15,
      "metadata": {
        "id": "Y4_bRBWqlqo1"
      },
      "outputs": [],
      "source": [
        "from sklearn.metrics import f1_score\n",
        "\n",
        "def f1_one_vs_all(prediction, target):\n",
        "  pred = prediction.argmax(1).ravel()\n",
        "  ytrue = target.ravel()\n",
        "\n",
        "  F1=[]\n",
        "\n",
        "  for k in range(3):\n",
        "    class_k_true = ytrue==k\n",
        "    class_k_pred = pred==k\n",
        "    F1.append(f1_score(class_k_true,class_k_pred))\n",
        "\n",
        "  return F1\n"
      ]
    },
    {
      "cell_type": "code",
      "execution_count": 16,
      "metadata": {
        "id": "zPfhDZ2Dlqo1"
      },
      "outputs": [],
      "source": [
        "def val_loop(dataloader, model, loss_fn, device):\n",
        "    size = len(dataloader.dataset)\n",
        "    num_batches = len(dataloader)\n",
        "    model.eval()\n",
        "    test_loss = 0\n",
        "    a,b,c = 0,0,0\n",
        "    with torch.no_grad():\n",
        "        for X, y in dataloader:\n",
        "            X, y = X.to(device), y.to(device)\n",
        "            pred = model(X).to(device)\n",
        "            test_loss += loss_fn(pred, y.long()).item()\n",
        "            f = f1_one_vs_all(pred.cpu(), y.cpu())\n",
        "            a += f[0]\n",
        "            b += f[1]\n",
        "            c += f[2]\n",
        "    test_loss /= num_batches\n",
        "    a/=size\n",
        "    b/=size\n",
        "    c/=size\n",
        "    print(f\"Test Error: \\n F1: {(100*a):>0.2f}%, {(100*b):>0.2f}%, {(100*c):>0.2f}, Avg loss: {test_loss:>8f} \\n\")"
      ]
    },
    {
      "cell_type": "code",
      "execution_count": 17,
      "metadata": {
        "id": "vKPk7gtNf8qY",
        "colab": {
          "base_uri": "https://localhost:8080/"
        },
        "outputId": "e84270f1-0501-4411-fad5-1aa8bdc1cb74"
      },
      "outputs": [
        {
          "output_type": "stream",
          "name": "stdout",
          "text": [
            "cuda:0\n"
          ]
        }
      ],
      "source": [
        "model = Unet()\n",
        "device = torch.device(\"cuda:0\" if torch.cuda.is_available() else \"cpu\")\n",
        "print(device)\n",
        "model = model.to(device)\n",
        "loss_fn = Adapted_loss().to(device)\n",
        "optimizer = torch.optim.Adam(model.parameters(), lr=5e-2)"
      ]
    },
    {
      "cell_type": "code",
      "execution_count": null,
      "metadata": {
        "id": "BZ_ic4Bdf8qY",
        "colab": {
          "base_uri": "https://localhost:8080/"
        },
        "outputId": "84da8987-697c-47a3-97b3-0cf0d3fb5708"
      },
      "outputs": [
        {
          "output_type": "stream",
          "name": "stdout",
          "text": [
            "Epoch 1\n",
            "-------------------------------\n",
            "loss: 1.141410  [    0/  228]\n",
            "loss: 0.854167  [   40/  228]\n",
            "loss: 0.801138  [   80/  228]\n",
            "loss: 0.827145  [  120/  228]\n",
            "loss: 0.791837  [  160/  228]\n",
            "loss: 0.786204  [  200/  228]\n",
            "Test Error: \n",
            " F1: 34.16%, 0.00%, 0.00, Avg loss: 0.819471 \n",
            "\n",
            "Epoch 2\n",
            "-------------------------------\n",
            "loss: 0.784932  [    0/  228]\n",
            "loss: 0.754211  [   40/  228]\n",
            "loss: 0.710803  [   80/  228]\n",
            "loss: 0.687967  [  120/  228]\n",
            "loss: 0.667165  [  160/  228]\n"
          ]
        }
      ],
      "source": [
        "epochs = 20\n",
        "for t in range(epochs):\n",
        "    print(f\"Epoch {t+1}\\n-------------------------------\")\n",
        "    train_loop(trainDataLoader, model, loss_fn, optimizer, device)\n",
        "    val_loop(valDataLoader, model, loss_fn, device)\n",
        "print(\"Done!\")\n",
        "\n",
        "# #Uncomment to save Model\n",
        "with open(\"UNetV1.pt\", \"wb\") as f:\n",
        "    torch.save(model.state_dict(), f)\n",
        "\n",
        "torch.save(model, 'model_simple.pth')\n",
        "\n",
        "print(\"Models saved\")"
      ]
    },
    {
      "cell_type": "code",
      "execution_count": null,
      "metadata": {
        "id": "SUX_AxO3f8qZ"
      },
      "outputs": [],
      "source": [
        "x_test, label_test = next(iter(valDataLoader))\n",
        "\n",
        "print(label_test.shape)\n",
        "x_test = x_test.to(device)[0]\n",
        "plt.imshow(label_test[0], origin='lower')\n",
        "plt.show()\n",
        "plt.imshow(np.argmax(model(x_test.reshape(1,4,357,717)).softmax(dim=1).cpu().detach().numpy(), axis=1)[0], origin='lower')"
      ]
    },
    {
      "cell_type": "code",
      "execution_count": null,
      "metadata": {
        "id": "DttxDXqclqo2"
      },
      "outputs": [],
      "source": []
    }
  ],
  "metadata": {
    "accelerator": "GPU",
    "colab": {
      "provenance": []
    },
    "gpuClass": "standard",
    "kernelspec": {
      "display_name": "Python 3 (ipykernel)",
      "language": "python",
      "name": "python3"
    },
    "language_info": {
      "codemirror_mode": {
        "name": "ipython",
        "version": 3
      },
      "file_extension": ".py",
      "mimetype": "text/x-python",
      "name": "python",
      "nbconvert_exporter": "python",
      "pygments_lexer": "ipython3",
      "version": "3.10.8"
    },
    "vscode": {
      "interpreter": {
        "hash": "e567364bc8ddf153d80a9d3509d1b5709c952b74d6848487d8a2c235834a8128"
      }
    }
  },
  "nbformat": 4,
  "nbformat_minor": 0
}