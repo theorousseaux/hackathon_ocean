{
 "cells": [
  {
   "cell_type": "code",
   "execution_count": 1,
   "id": "d8421e05-1b65-4fd5-a342-f26fba9466f3",
   "metadata": {},
   "outputs": [],
   "source": [
    "class TrainDataset():\n",
    "    def __init__(self, path):\n",
    "\n",
    "        eddies_train = xr.open_dataset(path + '/eddies_train.nc')\n",
    "        X_train = xr.open_dataset(path + '/OSSE_U_V_SLA_SST_train.nc')\n",
    "        \n",
    "        y = eddies_train.eddies.values\n",
    "        \n",
    "        X_verti = X_train.vomecrtyT.values\n",
    "        X_hori = X_train.vozocrtxT.values\n",
    "        X_SSH = X_train.sossheig.values\n",
    "        X_SST = X_train.votemper.values\n",
    "\n",
    "        X_verti = np.nan_to_num(X_verti, nan=np.nanmean(X_verti))\n",
    "        X_hori = np.nan_to_num(X_hori, nan=np.nanmean(X_hori))\n",
    "        X_SSH = np.nan_to_num(X_SSH, nan=np.nanmean(X_SSH))\n",
    "        X_SST = np.nan_to_num(X_SST, nan=np.nanmean(X_SST))\n",
    "        \n",
    "        ##Normalisation\n",
    "        X_verti = ( X_verti - np.min(X_verti) )/( np.max(X_verti) - np.min(X_verti) )\n",
    "        X_hori = ( X_hori - np.min(X_hori) )/( np.max(X_hori) - np.min(X_hori) )\n",
    "        X_SSH = ( X_SSH - np.min(X_SSH) )/( np.max(X_SSH) - np.min(X_SSH) )\n",
    "        X_SST = ( X_SST - np.min(X_SST) )/( np.max(X_SST) - np.min(X_SST) )\n",
    "        \n",
    "        \n",
    "        ##Transformation\n",
    "        X = np.array([X_verti, X_hori, X_SSH, X_SST])\n",
    "        X = X.transpose((1,0,2,3))\n",
    "        y = np.nan_to_num(y, nan=3)\n",
    "        \n",
    "        \n",
    "        self.X_train = torch.tensor(X)\n",
    "        self.y_train = torch.tensor(y, dtype=torch.long)\n",
    "        self.image_transforms = image_transforms\n",
    "        \n",
    "        \n",
    "        \n",
    "    def __len__(self):\n",
    "        return len(self.X_train)\n",
    "\n",
    "    def __getitem__(self, idx):\n",
    "        \n",
    "        x = self.X_train[idx]\n",
    "        y = self.y_train[idx]\n",
    "        \n",
    "        x = self.image_transforms(x)\n",
    "        \n",
    "        return self.X_train[idx], self.y_train[idx]"
   ]
  },
  {
   "cell_type": "code",
   "execution_count": 2,
   "id": "591dabe7-b9c9-49e9-8948-dfe0b1b2e4ea",
   "metadata": {},
   "outputs": [],
   "source": [
    "from torchvision import datasets, transforms\n",
    "\n",
    "image_transforms = transforms.Compose(\n",
    "    [\n",
    "        transforms.RandomHorizontalFlip(0.5),\n",
    "        transforms.RandomVerticalFlip(0.5),\n",
    "    ]\n",
    ")\n"
   ]
  },
  {
   "cell_type": "code",
   "execution_count": null,
   "id": "661bb70b-338c-42fa-9805-1ac822703e54",
   "metadata": {},
   "outputs": [],
   "source": []
  }
 ],
 "metadata": {
  "kernelspec": {
   "display_name": "Python 3 (ipykernel)",
   "language": "python",
   "name": "python3"
  },
  "language_info": {
   "codemirror_mode": {
    "name": "ipython",
    "version": 3
   },
   "file_extension": ".py",
   "mimetype": "text/x-python",
   "name": "python",
   "nbconvert_exporter": "python",
   "pygments_lexer": "ipython3",
   "version": "3.10.8"
  }
 },
 "nbformat": 4,
 "nbformat_minor": 5
}
